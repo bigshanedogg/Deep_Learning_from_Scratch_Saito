{
 "cells": [
  {
   "cell_type": "code",
   "execution_count": 3,
   "metadata": {
    "collapsed": true
   },
   "outputs": [],
   "source": [
    "import pickle\n",
    "import sys, os\n",
    "sys.path.append(os.pardir) \n",
    "import numpy as np\n",
    "import matplotlib.pyplot as plt\n",
    "from collections import OrderedDict"
   ]
  },
  {
   "cell_type": "markdown",
   "metadata": {},
   "source": [
    "<br><hr><br>"
   ]
  },
  {
   "cell_type": "markdown",
   "metadata": {},
   "source": [
    "## 0) Required Classes & Functions to make Two-Layer Net"
   ]
  },
  {
   "cell_type": "code",
   "execution_count": 4,
   "metadata": {
    "collapsed": true
   },
   "outputs": [],
   "source": [
    "class ReLU : \n",
    "    def __init__(self) : \n",
    "        self.mask = None\n",
    "        \n",
    "    def forward(self, x) : \n",
    "        self.mask = (x<=0) #numpy 배열 x와 같은 shape을 가진 배열을 만들고, 0 이상인 셀은 True, 0 미만인 셀은 False인 배열을 반환\n",
    "        out = x.copy() \n",
    "        out[self.mask] = 0 #numpy 배열인 x 중 0 이하인 값은 0으로 치환\n",
    "        return out\n",
    "    \n",
    "    def backward(self, dout) : \n",
    "        dout[self.mask] = 0 #numpy 배열 dout 중 0 이하인 값은 0으로 치환\n",
    "        dx = dout\n",
    "        return dx"
   ]
  },
  {
   "cell_type": "code",
   "execution_count": 5,
   "metadata": {
    "collapsed": true
   },
   "outputs": [],
   "source": [
    "class Affine : \n",
    "    def __init__(self, W, b) : \n",
    "        self.W = W \n",
    "        self.b = b \n",
    "        self.x = None\n",
    "        self.dW = None\n",
    "        self.db = None\n",
    "        \n",
    "    \n",
    "    def forward(self, x) : \n",
    "        self.x = x \n",
    "        out = np.dot(x, self.W) + self.b\n",
    "        return out\n",
    "    \n",
    "    \n",
    "    def backward(self, dout) : \n",
    "        dx = np.dot(dout, self.W.T) \n",
    "        self.dW = np.dot(self.x.T, dout) \n",
    "        self.db = np.sum(dout, axis=0)\n",
    "        return dx"
   ]
  },
  {
   "cell_type": "code",
   "execution_count": 6,
   "metadata": {
    "collapsed": true
   },
   "outputs": [],
   "source": [
    "#softmax_function\n",
    "def softmax_function(x) : \n",
    "    max_by_row = np.amax(x, axis=1)\n",
    "    max_by_row = np.reshape(max_by_row, [max_by_row.shape[0],1])\n",
    "    nom = np.exp(x-max_by_row)\n",
    "    denom = np.sum(np.exp(x-max_by_row), axis=1)\n",
    "    denom = np.reshape(denom, [denom.shape[0],1])\n",
    "    return nom/denom"
   ]
  },
  {
   "cell_type": "code",
   "execution_count": 7,
   "metadata": {
    "collapsed": true
   },
   "outputs": [],
   "source": [
    "def get_mini_batch(x, y, i, batch_size) : \n",
    "    if i+batch_size >= len(x) :\n",
    "        x_batch = x[i*batch_size:len(x)] #마지막 부분은 예외처리 (list index range)\n",
    "        y_batch = y[i*batch_size:len(y)]\n",
    "    else : \n",
    "        x_batch = x[i*batch_size:(i+1)*batch_size] \n",
    "        y_batch = y[i*batch_size:(i+1)*batch_size] \n",
    "    \n",
    "    return x_batch, y_batch"
   ]
  },
  {
   "cell_type": "code",
   "execution_count": 8,
   "metadata": {
    "collapsed": true
   },
   "outputs": [],
   "source": [
    "#CEE (cross_entropy_error, 교차엔트로피오차)\n",
    "def CEE(y_p, y_t) : #y_p: predicted vector, y_t: actual_vector\n",
    "    if y_t.ndim == 1 : \n",
    "        y_t = y_t.reshape(1, y_t.size)\n",
    "        y_p = y_p.reshape(1, y_p.size)\n",
    "        \n",
    "    delta = 1e-7\n",
    "    return -1/y_p.shape[0]*np.sum(y_t*np.log(y_p + delta)) #y_p가 0이 되어 log 계산시 -inf가 나오는 현상 방지"
   ]
  },
  {
   "cell_type": "code",
   "execution_count": 9,
   "metadata": {
    "collapsed": true
   },
   "outputs": [],
   "source": [
    "def weight_numerical_gradient(f, x) : #편미분은 특정 변수에 대한 미분을 의미했는데, \n",
    "    #gradient는 각각의 변수에 대해 전부 편미분하여 그 값을 numpy array형태로 반환한다. 실제 내부 코드는 partial_diff와 크게 다르지 않다.\n",
    "    h = 1e-4 #0.0001\n",
    "    grad = np.zeros_like(x)\n",
    "\n",
    "    for i in range(0, x.shape[0]) : \n",
    "        for j in range(0, x.shape[1]) : \n",
    "            temp = x[i][j]\n",
    "\n",
    "            x[i][j] = temp + h\n",
    "            fxh1 = f(x[i][j])\n",
    "            x[i][j] = temp - h \n",
    "            fxh2 = f(x[i][j])\n",
    "\n",
    "            grad[i][j] = (fxh1-fxh2)/(2*h)\n",
    "            x[i][j] = temp\n",
    "\n",
    "    return grad"
   ]
  },
  {
   "cell_type": "code",
   "execution_count": 10,
   "metadata": {
    "collapsed": true
   },
   "outputs": [],
   "source": [
    "#ㅜnumerical differentian function for bias (수치 미분 함수)\n",
    "def bias_numerical_gradient(f, x) : #편미분은 특정 변수에 대한 미분을 의미했는데, \n",
    "    #gradient는 각각의 변수에 대해 전부 편미분하여 그 값을 numpy array형태로 반환한다. 실제 내부 코드는 partial_diff와 크게 다르지 않다.\n",
    "    h = 1e-4 #0.0001\n",
    "    grad = np.zeros_like(x)\n",
    "\n",
    "    for i in range(0, x.shape[0]) : \n",
    "        temp = x[i]\n",
    "\n",
    "        x[i] = temp + h\n",
    "        fxh1 = f(x[i])\n",
    "        x[i] = temp - h \n",
    "        fxh2 = f(x[i])\n",
    "\n",
    "        grad[i] = (fxh1-fxh2)/(2*h)\n",
    "        x[i] = temp\n",
    "\n",
    "    return grad"
   ]
  },
  {
   "cell_type": "code",
   "execution_count": 11,
   "metadata": {
    "collapsed": true
   },
   "outputs": [],
   "source": [
    "class SoftmaxWithLoss : \n",
    "    def __init__(self) : \n",
    "        self.loss = None #최종 결과물인 loss값\n",
    "        self.y = None #predicted Y\n",
    "        self.t = None #actual Y\n",
    "        \n",
    "    \n",
    "    def forward(self, x, t) : \n",
    "        self.t = t\n",
    "        self.y = softmax_function(x)\n",
    "        self.loss = CEE(self.y, self.t)\n",
    "        return self.loss\n",
    "    \n",
    "    \n",
    "    def backward(self, dout=1) : \n",
    "        batch_size = self.t.shape[0]\n",
    "        dx = (self.y - self.t) / batch_size\n",
    "        return dx"
   ]
  },
  {
   "cell_type": "code",
   "execution_count": 12,
   "metadata": {
    "collapsed": true
   },
   "outputs": [],
   "source": [
    "class SGD :\n",
    "    def __init__(self, lr=0.01) : \n",
    "        self.lr = lr\n",
    "        \n",
    "    def update(self, params, grads) : \n",
    "        for key in params.keys() : \n",
    "            params[key] -= self.lr * grads[key]\n",
    "        \n",
    "        return params"
   ]
  },
  {
   "cell_type": "code",
   "execution_count": 13,
   "metadata": {
    "collapsed": true
   },
   "outputs": [],
   "source": [
    "class Momentum : \n",
    "    def __init__(self, lr=0.01, momentum=0.9) : #momentum means 'alpha' which controll v's ratio to pass next epoch\n",
    "        self.lr = lr\n",
    "        self.momentum = momentum\n",
    "        self.v = None\n",
    "        \n",
    "    def update(self, params, grads) : \n",
    "        if self.v is None : \n",
    "            self.v = {}\n",
    "            for key, val in params.items() : \n",
    "                self.v[key] = np.zeros_like(val) \n",
    "        \n",
    "        for key in params.keys() : \n",
    "            self.v[key] = self.momentum * self.v[key] - self.lr * grads[key]\n",
    "            params[key] += self.v[key]\n",
    "            \n",
    "        return params"
   ]
  },
  {
   "cell_type": "code",
   "execution_count": 14,
   "metadata": {
    "collapsed": true
   },
   "outputs": [],
   "source": [
    "class AdaGrad : \n",
    "    def __init__(self, lr=0.01) : \n",
    "        self.lr = lr\n",
    "        self.h = None\n",
    "        \n",
    "    def update(self, params, grads) : \n",
    "        if self.h is None : \n",
    "            self.h = {}\n",
    "            for key, val in params.items() : \n",
    "                self.h[key] = np.zeros_like(val) \n",
    "                \n",
    "        for key in params.keys() : \n",
    "            self.h[key] += grads[key] * grads[key]\n",
    "            params[key] -= self.lr * grads[key] / (np.sqrt(self.h[key]) + 1e-7)\n",
    "            \n",
    "        return params"
   ]
  },
  {
   "cell_type": "code",
   "execution_count": 15,
   "metadata": {
    "collapsed": true
   },
   "outputs": [],
   "source": [
    "class Adam:\n",
    "    def __init__(self, lr=0.001, beta1=0.9, beta2=0.999):\n",
    "        self.lr = lr\n",
    "        self.beta1 = beta1\n",
    "        self.beta2 = beta2\n",
    "        self.iter = 0\n",
    "        self.m = None\n",
    "        self.v = None\n",
    "        \n",
    "    def update(self, params, grads):\n",
    "        if self.m is None:\n",
    "            self.m, self.v = {}, {}\n",
    "            for key, val in params.items():\n",
    "                self.m[key] = np.zeros_like(val)\n",
    "                self.v[key] = np.zeros_like(val)\n",
    "        \n",
    "        self.iter += 1\n",
    "        lr_t  = self.lr * np.sqrt(1.0 - self.beta2**self.iter) / (1.0 - self.beta1**self.iter)         \n",
    "        \n",
    "        for key in params.keys():\n",
    "            #self.m[key] = self.beta1*self.m[key] + (1-self.beta1)*grads[key]\n",
    "            #self.v[key] = self.beta2*self.v[key] + (1-self.beta2)*(grads[key]**2)\n",
    "            self.m[key] += (1 - self.beta1) * (grads[key] - self.m[key])\n",
    "            self.v[key] += (1 - self.beta2) * (grads[key]**2 - self.v[key])\n",
    "            \n",
    "            params[key] -= lr_t * self.m[key] / (np.sqrt(self.v[key]) + 1e-7)\n",
    "            \n",
    "            #unbias_m += (1 - self.beta1) * (grads[key] - self.m[key]) # correct bias\n",
    "            #unbisa_b += (1 - self.beta2) * (grads[key]*grads[key] - self.v[key]) # correct bias\n",
    "            #params[key] += self.lr * unbias_m / (np.sqrt(unbisa_b) + 1e-7)\n",
    "            \n",
    "        return params"
   ]
  },
  {
   "cell_type": "markdown",
   "metadata": {},
   "source": [
    "<br><hr><br>"
   ]
  },
  {
   "cell_type": "markdown",
   "metadata": {},
   "source": [
    "## 1) Two-Layer Neural Net extended"
   ]
  },
  {
   "cell_type": "code",
   "execution_count": 92,
   "metadata": {},
   "outputs": [],
   "source": [
    "class TwoLayerNet : \n",
    "    def __init__(self, input_size, hidden_size, output_size, weight_init_std=0.01) : \n",
    "        self.weight_decay_flag = None\n",
    "        #weight initialization \n",
    "        self.params = {}\n",
    "        self.params[\"W1\"] = weight_init_std * np.random.randn(input_size, hidden_size) #random.randn은 음수 포함한 랜덤 실수 생성\n",
    "        self.params[\"b1\"] = np.zeros(hidden_size) \n",
    "        self.params[\"W2\"] = weight_init_std * np.random.randn(hidden_size, output_size) \n",
    "        self.params[\"b2\"] = np.zeros(output_size)\n",
    "        \n",
    "        #Layers \n",
    "        self.layers = OrderedDict()\n",
    "        self.layers[\"Affine1\"] = Affine(self.params[\"W1\"], self.params[\"b1\"])\n",
    "        self.layers[\"ReLU1\"] = ReLU()\n",
    "        self.layers[\"Affine2\"] = Affine(self.params[\"W2\"], self.params[\"b2\"]) \n",
    "        self.lastLayer = SoftmaxWithLoss()\n",
    "\n",
    "    \n",
    "    def set_train_flag(self, train_flag=True) : \n",
    "        self.train_flag = train_flag\n",
    "    \n",
    "    def set_flag(self, weight_decay=False, drop_out=False) : \n",
    "        self.weight_decay_flag = weight_decay\n",
    "        self.dropout_flag = drop_out\n",
    "        if self.dropout_flag :\n",
    "            self.dlayers = OrderedDict()\n",
    "            self.dlayers[\"Affine1\"] = Affine(self.params[\"W1\"], self.params[\"b1\"])\n",
    "            self.dlayers[\"Dropout1\"] = Dropout()\n",
    "            self.dlayers[\"ReLU1\"] = ReLU()\n",
    "            self.dlayers[\"Affine2\"] = Affine(self.params[\"W2\"], self.params[\"b2\"]) \n",
    "            self.dlayers[\"Dropout2\"] = Dropout()\n",
    "        \n",
    "        \n",
    "    def predict(self, x) : \n",
    "        if self.dropout_flag : \n",
    "            for layer in self.dlayers.values() : \n",
    "                try : \n",
    "                    if self.train_flag : \n",
    "                        x = layer.train_forward(x)\n",
    "                    else : \n",
    "                        x = layer.test_forward(x)\n",
    "                except : \n",
    "                    x = layer.forward(x)\n",
    "        else : \n",
    "            for layer in self.layers.values() : \n",
    "                x = layer.forward(x)\n",
    "                \n",
    "        return x\n",
    "    \n",
    "    #weight decay\n",
    "    def weight_decay(self) : \n",
    "        lb = 0.5\n",
    "        self.decay = 0\n",
    "        for key in self.params.keys() : \n",
    "            self.decay += 0.5 * lb * np.sum((self.params[key] * self.params[key]))\n",
    "            \n",
    "    \n",
    "    #x: input_data, t: label\n",
    "    def loss(self, x, t) : \n",
    "        y = self.predict(x) \n",
    "        loss_value = self.lastLayer.forward(y, t)\n",
    "        \n",
    "        if self.weight_decay_flag : \n",
    "            self.weight_decay()\n",
    "            return (loss_value+self.decay)\n",
    "        else : \n",
    "            return loss_value\n",
    "    \n",
    "    \n",
    "    #x: input_data, t: label\n",
    "    def accuracy(self, x, t) : \n",
    "        y = self.predict(x) \n",
    "        y = np.argmax(y, axis=1) \n",
    "        if t.ndim != 1 : #1d vector가 아니라 one-hot된 2d matrix라면 argmax를 이용해 1d vector로 변환한다.\n",
    "            t = np.argmax(t, axis=1)\n",
    "            \n",
    "        accuracy = np.sum(y==t) / float(x.shape[0]) # 평균 오차 = (y_t - y_p)/batch_size\n",
    "        return accuracy\n",
    "    \n",
    "    \n",
    "    #x: input_data, t: label\n",
    "    def numerical_gradient(self, x, t) : \n",
    "        loss_W = lambda W: self.loss(x, t) \n",
    "        \n",
    "        grads = {}\n",
    "        grads[\"W1\"] = weight_numerical_gradient(loss_W, self.params[\"W1\"])\n",
    "        grads[\"b1\"] = bias_numerical_gradient(loss_W, self.params[\"b1\"])\n",
    "        grads[\"W2\"] = weight_numerical_gradient(loss_W, self.params[\"W2\"])\n",
    "        grads[\"b2\"] = bias_numerical_gradient(loss_W, self.params[\"b2\"])\n",
    "        \n",
    "        return grads\n",
    "    \n",
    "    \n",
    "    def gradient(self, x, t) : \n",
    "        #forward propagation\n",
    "        self.loss(x, t) \n",
    "        \n",
    "        #backward propagation\n",
    "        dout = 1\n",
    "        dout = self.lastLayer.backward(dout)\n",
    "        \n",
    "        \n",
    "        if self.dropout_flag : \n",
    "            dlayers = list(self.dlayers.values())\n",
    "            dlayers.reverse()\n",
    "            for layer in dlayers : \n",
    "                dout = layer.backward(dout)\n",
    "        else : \n",
    "            layers = list(self.layers.values())\n",
    "            layers.reverse()\n",
    "            for layer in layers : \n",
    "                dout = layer.backward(dout)\n",
    "\n",
    "        #save result\n",
    "        grads = {}\n",
    "        #self.layers.values()를 forward & backward하면서 클래스 변수인 dW와 db가 없데이트되었다.\n",
    "        grads[\"W1\"] = self.layers[\"Affine1\"].dW \n",
    "        grads[\"b1\"] = self.layers[\"Affine1\"].db\n",
    "        grads[\"W2\"] = self.layers[\"Affine2\"].dW\n",
    "        grads[\"b2\"] = self.layers[\"Affine2\"].db\n",
    "        \n",
    "        return grads"
   ]
  },
  {
   "cell_type": "code",
   "execution_count": 83,
   "metadata": {
    "collapsed": true
   },
   "outputs": [],
   "source": [
    "#mnist 데이터 pickle로 로드\n",
    "temp = []\n",
    "\n",
    "with open(\"mnist_dataset.txt\", mode=\"rb\") as fp : \n",
    "    temp = pickle.load(fp)\n",
    "    temp[0] = np.reshape(temp[0], [temp[0].shape[0], -1])\n",
    "    temp[2] = np.reshape(temp[2], [temp[2].shape[0], -1])\n",
    "    \n",
    "    nb_classes = 10\n",
    "    temp[1] = np.array([temp[1]]).reshape(-1)\n",
    "    temp[1] = np.eye(nb_classes)[temp[1]]\n",
    "    temp[3] = np.array([temp[3]]).reshape(-1)\n",
    "    temp[3] = np.eye(nb_classes)[temp[3]]\n",
    "    \n",
    "x_train, y_train, x_test, y_test = temp"
   ]
  },
  {
   "cell_type": "markdown",
   "metadata": {},
   "source": [
    "<br><hr><br>"
   ]
  },
  {
   "cell_type": "markdown",
   "metadata": {
    "collapsed": true
   },
   "source": [
    "## 2) Weight Decay"
   ]
  },
  {
   "cell_type": "code",
   "execution_count": 30,
   "metadata": {
    "collapsed": true
   },
   "outputs": [],
   "source": [
    "network = TwoLayerNet(input_size=x_train.shape[1], hidden_size=50, output_size=10)\n",
    "optimizer = SGD()\n",
    "batch_size = 32"
   ]
  },
  {
   "cell_type": "code",
   "execution_count": 31,
   "metadata": {
    "collapsed": true
   },
   "outputs": [],
   "source": [
    "accuracy_list = []\n",
    "for i in range(1000) : \n",
    "    x_batch, t_batch = get_mini_batch(x_train, y_train, i, batch_size)\n",
    "    grads = network.gradient(x_batch, t_batch)\n",
    "    params = network.params\n",
    "    network.params = optimizer.update(params, grads)\n",
    "    accuracy_list.append(network.accuracy(x_test, y_test))"
   ]
  },
  {
   "cell_type": "code",
   "execution_count": 32,
   "metadata": {},
   "outputs": [
    {
     "data": {
      "image/png": "[encoded data removed]",
      "text/plain": [
       "<matplotlib.figure.Figure at 0x1063769e8>"
      ]
     },
     "metadata": {},
     "output_type": "display_data"
    }
   ],
   "source": [
    "plt.figure()\n",
    "plt.plot(accuracy_list, color=\"black\")\n",
    "plt.show()"
   ]
  },
  {
   "cell_type": "code",
   "execution_count": 33,
   "metadata": {
    "collapsed": true
   },
   "outputs": [],
   "source": [
    "network.set_flag(weight_decay=True)"
   ]
  },
  {
   "cell_type": "code",
   "execution_count": 34,
   "metadata": {},
   "outputs": [],
   "source": [
    "accuracy_list = []\n",
    "for i in range(1000) : \n",
    "    x_batch, t_batch = get_mini_batch(x_train, y_train, i, batch_size)\n",
    "    grads = network.gradient(x_batch, t_batch)\n",
    "    params = network.params\n",
    "    network.params = optimizer.update(params, grads)\n",
    "    accuracy_list.append(network.accuracy(x_test, y_test))"
   ]
  },
  {
   "cell_type": "code",
   "execution_count": 35,
   "metadata": {},
   "outputs": [
    {
     "data": {
      "image/png": "[encoded data removed]",
      "text/plain": [
       "<matplotlib.figure.Figure at 0x106376ef0>"
      ]
     },
     "metadata": {},
     "output_type": "display_data"
    }
   ],
   "source": [
    "plt.figure()\n",
    "plt.plot(accuracy_list, color=\"black\")\n",
    "plt.show()"
   ]
  },
  {
   "cell_type": "markdown",
   "metadata": {},
   "source": [
    "<br><hr><br>"
   ]
  },
  {
   "cell_type": "markdown",
   "metadata": {},
   "source": [
    "## 3) Dropout"
   ]
  },
  {
   "cell_type": "code",
   "execution_count": 88,
   "metadata": {
    "collapsed": true
   },
   "outputs": [],
   "source": [
    "class Dropout : \n",
    "    def __init__(self, dropout_ratio = 0.5) : \n",
    "        self.dropout_ratio = dropout_ratio\n",
    "        self.mask = None\n",
    "        \n",
    "    def train_forward(self, x) : \n",
    "        self.mask = np.random.rand(*x.shape) > self.dropout_ratio #x와 shape가 같고 0~1 사이 실수를 원소로 갖는 ndarray를 만든다.\n",
    "                                                                    #dropout_ratio값 보다 큰 곳의 위치 정보를 self.mask에 저장한다.\n",
    "        return x * self.mask\n",
    "    \n",
    "    def test_forward(self, x) : \n",
    "        return x * (1.0 - self.dropout_ratio)\n",
    "        \n",
    "    def backward(self, dout) : \n",
    "        return dout * self.mask"
   ]
  },
  {
   "cell_type": "code",
   "execution_count": 93,
   "metadata": {
    "collapsed": true
   },
   "outputs": [],
   "source": [
    "network = TwoLayerNet(input_size=x_train.shape[1], hidden_size=50, output_size=10)\n",
    "optimizer = Momentum()\n",
    "batch_size = 32"
   ]
  },
  {
   "cell_type": "code",
   "execution_count": 94,
   "metadata": {},
   "outputs": [],
   "source": [
    "network.set_flag(weight_decay=False, drop_out=True)\n",
    "network.set_train_flag(train_flag=True)"
   ]
  },
  {
   "cell_type": "code",
   "execution_count": 95,
   "metadata": {},
   "outputs": [
    {
     "ename": "TypeError",
     "evalue": "unsupported operand type(s) for *: 'float' and 'NoneType'",
     "output_type": "error",
     "traceback": [
      "\u001b[0;31m---------------------------------------------------------------------------\u001b[0m",
      "\u001b[0;31mTypeError\u001b[0m                                 Traceback (most recent call last)",
      "\u001b[0;32m<ipython-input-95-1c3d6dc51fe8>\u001b[0m in \u001b[0;36m<module>\u001b[0;34m()\u001b[0m\n\u001b[1;32m      4\u001b[0m     \u001b[0mgrads\u001b[0m \u001b[0;34m=\u001b[0m \u001b[0mnetwork\u001b[0m\u001b[0;34m.\u001b[0m\u001b[0mgradient\u001b[0m\u001b[0;34m(\u001b[0m\u001b[0mx_batch\u001b[0m\u001b[0;34m,\u001b[0m \u001b[0mt_batch\u001b[0m\u001b[0;34m)\u001b[0m\u001b[0;34m\u001b[0m\u001b[0m\n\u001b[1;32m      5\u001b[0m     \u001b[0mparams\u001b[0m \u001b[0;34m=\u001b[0m \u001b[0mnetwork\u001b[0m\u001b[0;34m.\u001b[0m\u001b[0mparams\u001b[0m\u001b[0;34m\u001b[0m\u001b[0m\n\u001b[0;32m----> 6\u001b[0;31m     \u001b[0mnetwork\u001b[0m\u001b[0;34m.\u001b[0m\u001b[0mparams\u001b[0m \u001b[0;34m=\u001b[0m \u001b[0moptimizer\u001b[0m\u001b[0;34m.\u001b[0m\u001b[0mupdate\u001b[0m\u001b[0;34m(\u001b[0m\u001b[0mparams\u001b[0m\u001b[0;34m,\u001b[0m \u001b[0mgrads\u001b[0m\u001b[0;34m)\u001b[0m\u001b[0;34m\u001b[0m\u001b[0m\n\u001b[0m\u001b[1;32m      7\u001b[0m     \u001b[0mnetwork\u001b[0m\u001b[0;34m.\u001b[0m\u001b[0mset_train_flag\u001b[0m\u001b[0;34m(\u001b[0m\u001b[0mtrain_flag\u001b[0m\u001b[0;34m=\u001b[0m\u001b[0;32mFalse\u001b[0m\u001b[0;34m)\u001b[0m\u001b[0;34m\u001b[0m\u001b[0m\n\u001b[1;32m      8\u001b[0m     \u001b[0maccuracy_list\u001b[0m\u001b[0;34m.\u001b[0m\u001b[0mappend\u001b[0m\u001b[0;34m(\u001b[0m\u001b[0mnetwork\u001b[0m\u001b[0;34m.\u001b[0m\u001b[0maccuracy\u001b[0m\u001b[0;34m(\u001b[0m\u001b[0mx_test\u001b[0m\u001b[0;34m,\u001b[0m \u001b[0my_test\u001b[0m\u001b[0;34m)\u001b[0m\u001b[0;34m)\u001b[0m\u001b[0;34m\u001b[0m\u001b[0m\n",
      "\u001b[0;32m<ipython-input-13-62f9d74de4e1>\u001b[0m in \u001b[0;36mupdate\u001b[0;34m(self, params, grads)\u001b[0m\n\u001b[1;32m     12\u001b[0m \u001b[0;34m\u001b[0m\u001b[0m\n\u001b[1;32m     13\u001b[0m         \u001b[0;32mfor\u001b[0m \u001b[0mkey\u001b[0m \u001b[0;32min\u001b[0m \u001b[0mparams\u001b[0m\u001b[0;34m.\u001b[0m\u001b[0mkeys\u001b[0m\u001b[0;34m(\u001b[0m\u001b[0;34m)\u001b[0m \u001b[0;34m:\u001b[0m\u001b[0;34m\u001b[0m\u001b[0m\n\u001b[0;32m---> 14\u001b[0;31m             \u001b[0mself\u001b[0m\u001b[0;34m.\u001b[0m\u001b[0mv\u001b[0m\u001b[0;34m[\u001b[0m\u001b[0mkey\u001b[0m\u001b[0;34m]\u001b[0m \u001b[0;34m=\u001b[0m \u001b[0mself\u001b[0m\u001b[0;34m.\u001b[0m\u001b[0mmomentum\u001b[0m \u001b[0;34m*\u001b[0m \u001b[0mself\u001b[0m\u001b[0;34m.\u001b[0m\u001b[0mv\u001b[0m\u001b[0;34m[\u001b[0m\u001b[0mkey\u001b[0m\u001b[0;34m]\u001b[0m \u001b[0;34m-\u001b[0m \u001b[0mself\u001b[0m\u001b[0;34m.\u001b[0m\u001b[0mlr\u001b[0m \u001b[0;34m*\u001b[0m \u001b[0mgrads\u001b[0m\u001b[0;34m[\u001b[0m\u001b[0mkey\u001b[0m\u001b[0;34m]\u001b[0m\u001b[0;34m\u001b[0m\u001b[0m\n\u001b[0m\u001b[1;32m     15\u001b[0m             \u001b[0mparams\u001b[0m\u001b[0;34m[\u001b[0m\u001b[0mkey\u001b[0m\u001b[0;34m]\u001b[0m \u001b[0;34m+=\u001b[0m \u001b[0mself\u001b[0m\u001b[0;34m.\u001b[0m\u001b[0mv\u001b[0m\u001b[0;34m[\u001b[0m\u001b[0mkey\u001b[0m\u001b[0;34m]\u001b[0m\u001b[0;34m\u001b[0m\u001b[0m\n\u001b[1;32m     16\u001b[0m \u001b[0;34m\u001b[0m\u001b[0m\n",
      "\u001b[0;31mTypeError\u001b[0m: unsupported operand type(s) for *: 'float' and 'NoneType'"
     ]
    }
   ],
   "source": [
    "accuracy_list = []\n",
    "for i in range(1000) : \n",
    "    x_batch, t_batch = get_mini_batch(x_train, y_train, i, batch_size)\n",
    "    grads = network.gradient(x_batch, t_batch)\n",
    "    params = network.params\n",
    "    network.params = optimizer.update(params, grads)\n",
    "    network.set_train_flag(train_flag=False)\n",
    "    accuracy_list.append(network.accuracy(x_test, y_test))"
   ]
  },
  {
   "cell_type": "code",
   "execution_count": 114,
   "metadata": {},
   "outputs": [
    {
     "data": {
      "image/png": "[encoded data removed]",
      "text/plain": [
       "<matplotlib.figure.Figure at 0x107ed1b00>"
      ]
     },
     "metadata": {},
     "output_type": "display_data"
    }
   ],
   "source": [
    "plt.figure()\n",
    "plt.plot(accuracy_list, color=\"black\")\n",
    "plt.show()"
   ]
  },
  {
   "cell_type": "markdown",
   "metadata": {},
   "source": [
    "<br><hr><br>"
   ]
  },
  {
   "cell_type": "markdown",
   "metadata": {},
   "source": [
    "<br><hr><br>"
   ]
  }
 ],
 "metadata": {
  "kernelspec": {
   "display_name": "Python 3",
   "language": "python",
   "name": "python3"
  },
  "language_info": {
   "codemirror_mode": {
    "name": "ipython",
    "version": 3
   },
   "file_extension": ".py",
   "mimetype": "text/x-python",
   "name": "python",
   "nbconvert_exporter": "python",
   "pygments_lexer": "ipython3",
   "version": "3.5.1"
  }
 },
 "nbformat": 4,
 "nbformat_minor": 2
}
