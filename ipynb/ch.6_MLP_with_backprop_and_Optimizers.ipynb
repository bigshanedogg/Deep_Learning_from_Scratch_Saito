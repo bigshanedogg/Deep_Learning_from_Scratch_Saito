{
 "cells": [
  {
   "cell_type": "code",
   "execution_count": 83,
   "metadata": {
    "collapsed": true
   },
   "outputs": [],
   "source": [
    "import pickle\n",
    "import sys, os\n",
    "sys.path.append(os.pardir) \n",
    "import numpy as np\n",
    "import matplotlib.pyplot as plt\n",
    "from collections import OrderedDict"
   ]
  },
  {
   "cell_type": "markdown",
   "metadata": {},
   "source": [
    "<br><hr><br>"
   ]
  },
  {
   "cell_type": "markdown",
   "metadata": {},
   "source": [
    "## 1) Two-Layer Neural Net with backward propagation"
   ]
  },
  {
   "cell_type": "code",
   "execution_count": 2,
   "metadata": {
    "collapsed": true
   },
   "outputs": [],
   "source": [
    "class ReLU : \n",
    "    def __init__(self) : \n",
    "        self.mask = None\n",
    "        \n",
    "    def forward(self, x) : \n",
    "        self.mask = (x<=0) #numpy 배열 x와 같은 shape을 가진 배열을 만들고, 0 이상인 셀은 True, 0 미만인 셀은 False인 배열을 반환\n",
    "        out = x.copy() \n",
    "        out[self.mask] = 0 #numpy 배열인 x 중 0 이하인 값은 0으로 치환\n",
    "        return out\n",
    "    \n",
    "    def backward(self, dout) : \n",
    "        dout[self.mask] = 0 #numpy 배열 dout 중 0 이하인 값은 0으로 치환\n",
    "        dx = dout\n",
    "        return dx"
   ]
  },
  {
   "cell_type": "code",
   "execution_count": 3,
   "metadata": {
    "collapsed": true
   },
   "outputs": [],
   "source": [
    "class Affine : \n",
    "    def __init__(self, W, b) : \n",
    "        self.W = W \n",
    "        self.b = b \n",
    "        self.x = None\n",
    "        self.dW = None\n",
    "        self.db = None\n",
    "        \n",
    "    \n",
    "    def forward(self, x) : \n",
    "        self.x = x \n",
    "        out = np.dot(x, self.W) + self.b\n",
    "        return out\n",
    "    \n",
    "    \n",
    "    def backward(self, dout) : \n",
    "        dx = np.dot(dout, self.W.T) \n",
    "        self.dW = np.dot(self.x.T, dout) \n",
    "        self.db = np.sum(dout, axis=0)\n",
    "        return dx"
   ]
  },
  {
   "cell_type": "code",
   "execution_count": 4,
   "metadata": {
    "collapsed": true
   },
   "outputs": [],
   "source": [
    "#softmax_function\n",
    "def softmax_function(x) : \n",
    "    max_by_row = np.amax(x, axis=1)\n",
    "    max_by_row = np.reshape(max_by_row, [max_by_row.shape[0],1])\n",
    "    nom = np.exp(x-max_by_row)\n",
    "    denom = np.sum(np.exp(x-max_by_row), axis=1)\n",
    "    denom = np.reshape(denom, [denom.shape[0],1])\n",
    "    return nom/denom"
   ]
  },
  {
   "cell_type": "code",
   "execution_count": 95,
   "metadata": {
    "collapsed": true
   },
   "outputs": [],
   "source": [
    "def get_mini_batch(x, y, i, batch_size) : \n",
    "    if i+batch_size >= len(x) :\n",
    "        x_batch = x[i*batch_size:len(x)] #마지막 부분은 예외처리 (list index range)\n",
    "        y_batch = y[i*batch_size:len(y)]\n",
    "    else : \n",
    "        x_batch = x[i*batch_size:(i+1)*batch_size] \n",
    "        y_batch = y[i*batch_size:(i+1)*batch_size] \n",
    "    \n",
    "    return x_batch, y_batch"
   ]
  },
  {
   "cell_type": "code",
   "execution_count": 5,
   "metadata": {
    "collapsed": true
   },
   "outputs": [],
   "source": [
    "#CEE (cross_entropy_error, 교차엔트로피오차)\n",
    "def CEE(y_p, y_t) : #y_p: predicted vector, y_t: actual_vector\n",
    "    if y_t.ndim == 1 : \n",
    "        y_t = y_t.reshape(1, y_t.size)\n",
    "        y_p = y_p.reshape(1, y_p.size)\n",
    "        \n",
    "    delta = 1e-7\n",
    "    return -1/y_p.shape[0]*np.sum(y_t*np.log(y_p + delta)) #y_p가 0이 되어 log 계산시 -inf가 나오는 현상 방지"
   ]
  },
  {
   "cell_type": "code",
   "execution_count": 6,
   "metadata": {
    "collapsed": true
   },
   "outputs": [],
   "source": [
    "def weight_numerical_gradient(f, x) : #편미분은 특정 변수에 대한 미분을 의미했는데, \n",
    "    #gradient는 각각의 변수에 대해 전부 편미분하여 그 값을 numpy array형태로 반환한다. 실제 내부 코드는 partial_diff와 크게 다르지 않다.\n",
    "    h = 1e-4 #0.0001\n",
    "    grad = np.zeros_like(x)\n",
    "\n",
    "    for i in range(0, x.shape[0]) : \n",
    "        for j in range(0, x.shape[1]) : \n",
    "            temp = x[i][j]\n",
    "\n",
    "            x[i][j] = temp + h\n",
    "            fxh1 = f(x[i][j])\n",
    "            x[i][j] = temp - h \n",
    "            fxh2 = f(x[i][j])\n",
    "\n",
    "            grad[i][j] = (fxh1-fxh2)/(2*h)\n",
    "            x[i][j] = temp\n",
    "\n",
    "    return grad"
   ]
  },
  {
   "cell_type": "code",
   "execution_count": 7,
   "metadata": {
    "collapsed": true
   },
   "outputs": [],
   "source": [
    "#ㅜnumerical differentian function for bias (수치 미분 함수)\n",
    "def bias_numerical_gradient(f, x) : #편미분은 특정 변수에 대한 미분을 의미했는데, \n",
    "    #gradient는 각각의 변수에 대해 전부 편미분하여 그 값을 numpy array형태로 반환한다. 실제 내부 코드는 partial_diff와 크게 다르지 않다.\n",
    "    h = 1e-4 #0.0001\n",
    "    grad = np.zeros_like(x)\n",
    "\n",
    "    for i in range(0, x.shape[0]) : \n",
    "        temp = x[i]\n",
    "\n",
    "        x[i] = temp + h\n",
    "        fxh1 = f(x[i])\n",
    "        x[i] = temp - h \n",
    "        fxh2 = f(x[i])\n",
    "\n",
    "        grad[i] = (fxh1-fxh2)/(2*h)\n",
    "        x[i] = temp\n",
    "\n",
    "    return grad"
   ]
  },
  {
   "cell_type": "code",
   "execution_count": 8,
   "metadata": {
    "collapsed": true
   },
   "outputs": [],
   "source": [
    "class SoftmaxWithLoss : \n",
    "    def __init__(self) : \n",
    "        self.loss = None #최종 결과물인 loss값\n",
    "        self.y = None #predicted Y\n",
    "        self.t = None #actual Y\n",
    "        \n",
    "    \n",
    "    def forward(self, x, t) : \n",
    "        self.t = t\n",
    "        self.y = softmax_function(x)\n",
    "        self.loss = CEE(self.y, self.t)\n",
    "        return self.loss\n",
    "    \n",
    "    \n",
    "    def backward(self, dout=1) : \n",
    "        batch_size = self.t.shape[0]\n",
    "        dx = (self.y - self.t) / batch_size\n",
    "        return dx"
   ]
  },
  {
   "cell_type": "code",
   "execution_count": 9,
   "metadata": {
    "collapsed": true
   },
   "outputs": [],
   "source": [
    "class TwoLayerNet : \n",
    "    def __init__(self, input_size, hidden_size, output_size, weight_init_std=0.01) : \n",
    "        #weight initialization \n",
    "        self.params = {}\n",
    "        self.params[\"W1\"] = weight_init_std * np.random.randn(input_size, hidden_size) #random.randn은 음수 포함한 랜덤 실수 생성\n",
    "        self.params[\"b1\"] = np.zeros(hidden_size) \n",
    "        self.params[\"W2\"] = weight_init_std * np.random.randn(hidden_size, output_size) \n",
    "        self.params[\"b2\"] = np.zeros(output_size)\n",
    "        \n",
    "        #Layers \n",
    "        self.layers = OrderedDict()\n",
    "        self.layers[\"Affine1\"] = Affine(self.params[\"W1\"], self.params[\"b1\"])\n",
    "        self.layers[\"ReLU1\"] = ReLU()\n",
    "        self.layers[\"Affine2\"] = Affine(self.params[\"W2\"], self.params[\"b2\"])\n",
    "        self.lastLayer = SoftmaxWithLoss()\n",
    "        \n",
    "        \n",
    "    def predict(self, x) : \n",
    "        for layer in self.layers.values() : \n",
    "            x = layer.forward(x)\n",
    "        return x\n",
    "    \n",
    "    \n",
    "    #x: input_data, t: label\n",
    "    def loss(self, x, t) : \n",
    "        y = self.predict(x) \n",
    "        return self.lastLayer.forward(y, t)\n",
    "    \n",
    "    \n",
    "    #x: input_data, t: label\n",
    "    def accuracy(self, x, t) : \n",
    "        y = self.predict(x) \n",
    "        y = np.argmax(y, axis=1) \n",
    "        if t.ndim != 1 : #1d vector가 아니라 one-hot된 2d matrix라면 argmax를 이용해 1d vector로 변환한다.\n",
    "            t = np.argmax(t, axis=1)\n",
    "            \n",
    "        accuracy = np.sum(y==t) / float(x.shape[0]) # 평균 오차 = (y_t - y_p)/batch_size\n",
    "        return accuracy\n",
    "    \n",
    "    \n",
    "    #x: input_data, t: label\n",
    "    def numerical_gradient(self, x, t) : \n",
    "        loss_W = lambda W: self.loss(x, t) \n",
    "        \n",
    "        grads = {}\n",
    "        grads[\"W1\"] = weight_numerical_gradient(loss_W, self.params[\"W1\"])\n",
    "        grads[\"b1\"] = bias_numerical_gradient(loss_W, self.params[\"b1\"])\n",
    "        grads[\"W2\"] = weight_numerical_gradient(loss_W, self.params[\"W2\"])\n",
    "        grads[\"b2\"] = bias_numerical_gradient(loss_W, self.params[\"b2\"])\n",
    "        \n",
    "        return grads\n",
    "    \n",
    "    \n",
    "    def gradient(self, x, t) : \n",
    "        #forward propagation\n",
    "        self.loss(x, t) \n",
    "        \n",
    "        #backward propagation\n",
    "        dout = 1\n",
    "        dout = self.lastLayer.backward(dout)\n",
    "        \n",
    "        layers = list(self.layers.values())\n",
    "        layers.reverse()\n",
    "        \n",
    "        for layer in layers : \n",
    "            dout = layer.backward(dout)\n",
    "            \n",
    "        #save result\n",
    "        grads = {}\n",
    "        #self.layers.values()를 forward & backward하면서 클래스 변수인 dW와 db가 없데이트되었다.\n",
    "        grads[\"W1\"] = self.layers[\"Affine1\"].dW \n",
    "        grads[\"b1\"] = self.layers[\"Affine1\"].db\n",
    "        grads[\"W2\"] = self.layers[\"Affine2\"].dW\n",
    "        grads[\"b2\"] = self.layers[\"Affine2\"].db\n",
    "        \n",
    "        return grads"
   ]
  },
  {
   "cell_type": "markdown",
   "metadata": {},
   "source": [
    "<br><hr><br>"
   ]
  },
  {
   "cell_type": "markdown",
   "metadata": {},
   "source": [
    "## 2) Comparing computational time of numerical gradient and backward propagation"
   ]
  },
  {
   "cell_type": "code",
   "execution_count": 49,
   "metadata": {
    "collapsed": true
   },
   "outputs": [],
   "source": [
    "#mnist 데이터 pickle로 로드\n",
    "temp = []\n",
    "\n",
    "with open(\"mnist_dataset.txt\", mode=\"rb\") as fp : \n",
    "    temp = pickle.load(fp)\n",
    "    temp[0] = np.reshape(temp[0], [temp[0].shape[0], -1])\n",
    "    temp[2] = np.reshape(temp[2], [temp[2].shape[0], -1])\n",
    "    \n",
    "    nb_classes = 10\n",
    "    temp[1] = np.array([temp[1]]).reshape(-1)\n",
    "    temp[1] = np.eye(nb_classes)[temp[1]]\n",
    "    temp[3] = np.array([temp[3]]).reshape(-1)\n",
    "    temp[3] = np.eye(nb_classes)[temp[3]]\n",
    "    \n",
    "x_train, y_train, x_test, y_test = temp"
   ]
  },
  {
   "cell_type": "code",
   "execution_count": 11,
   "metadata": {
    "collapsed": true
   },
   "outputs": [],
   "source": [
    "network = TwoLayerNet(input_size=x_train.shape[1], hidden_size=50, output_size=10)"
   ]
  },
  {
   "cell_type": "code",
   "execution_count": 12,
   "metadata": {
    "collapsed": true
   },
   "outputs": [],
   "source": [
    "x_batch = x_train[:3]\n",
    "y_batch = y_train[:3]"
   ]
  },
  {
   "cell_type": "code",
   "execution_count": 16,
   "metadata": {
    "collapsed": true
   },
   "outputs": [],
   "source": [
    "grad_numerical = network.numerical_gradient(x_batch, y_batch)"
   ]
  },
  {
   "cell_type": "code",
   "execution_count": 17,
   "metadata": {
    "collapsed": true
   },
   "outputs": [],
   "source": [
    "grad_backprop = network.gradient(x_batch, y_batch)"
   ]
  },
  {
   "cell_type": "code",
   "execution_count": 15,
   "metadata": {},
   "outputs": [
    {
     "name": "stdout",
     "output_type": "stream",
     "text": [
      "W1:6.60072109351e-07\n",
      "b2:7.34884831302e-07\n",
      "b1:1.78445486616e-08\n",
      "W2:6.42350624041e-06\n"
     ]
    }
   ],
   "source": [
    "for key in grad_numerical.keys() : \n",
    "    diff = np.average(np.abs(grad_backprop[key] - grad_numerical[key])) #평균오차\n",
    "    print(key + \":\" + str(diff))"
   ]
  },
  {
   "cell_type": "markdown",
   "metadata": {},
   "source": [
    "### => There is no significant difference between two, but backprop is much faster than numerical gradient"
   ]
  },
  {
   "cell_type": "markdown",
   "metadata": {},
   "source": [
    "<br><hr><br>"
   ]
  },
  {
   "cell_type": "markdown",
   "metadata": {
    "collapsed": true
   },
   "source": [
    "## 3) Stochastic Gradient Descent"
   ]
  },
  {
   "cell_type": "code",
   "execution_count": 65,
   "metadata": {
    "collapsed": true
   },
   "outputs": [],
   "source": [
    "class SGD :\n",
    "    def __init__(self, lr=0.01) : \n",
    "        self.lr = lr\n",
    "        \n",
    "    def update(self, params, grads) : \n",
    "        for key in params.keys() : \n",
    "            params[key] -= self.lr * grads[key]\n",
    "        \n",
    "        return params"
   ]
  },
  {
   "cell_type": "code",
   "execution_count": 75,
   "metadata": {},
   "outputs": [],
   "source": [
    "network = TwoLayerNet(input_size=x_train.shape[1], hidden_size=50, output_size=10)\n",
    "optimizer = SGD()\n",
    "batch_size = 32"
   ]
  },
  {
   "cell_type": "code",
   "execution_count": 91,
   "metadata": {},
   "outputs": [],
   "source": [
    "accuracy_list = []\n",
    "for i in range(1000) : \n",
    "    x_batch, t_batch = get_mini_batch(x_train, y_train, i, batch_size)\n",
    "    grads = network.gradient(x_batch, t_batch)\n",
    "    params = network.params\n",
    "    network.params = optimizer.update(params, grads)\n",
    "    accuracy_list.append(network.accuracy(x_test, y_test))"
   ]
  },
  {
   "cell_type": "code",
   "execution_count": 96,
   "metadata": {},
   "outputs": [
    {
     "data": {
      "image/png": "[encoded data removed]",
      "text/plain": [
       "<matplotlib.figure.Figure at 0x105bdb5f8>"
      ]
     },
     "metadata": {},
     "output_type": "display_data"
    }
   ],
   "source": [
    "plt.figure()\n",
    "plt.plot(accuracy_list, color=\"black\")\n",
    "plt.show()"
   ]
  },
  {
   "cell_type": "markdown",
   "metadata": {},
   "source": [
    "<br><hr><br>"
   ]
  },
  {
   "cell_type": "markdown",
   "metadata": {},
   "source": [
    "## 4) Momentum"
   ]
  },
  {
   "cell_type": "code",
   "execution_count": 110,
   "metadata": {},
   "outputs": [],
   "source": [
    "class Momentum : \n",
    "    def __init__(self, lr=0.01, momentum=0.9) : #momentum means 'alpha' which controll v's ratio to pass next epoch\n",
    "        self.lr = lr\n",
    "        self.momentum = momentum\n",
    "        self.v = None\n",
    "        \n",
    "    def update(self, params, grads) : \n",
    "        if self.v is None : \n",
    "            self.v = {}\n",
    "            for key, val in params.items() : \n",
    "                self.v[key] = np.zeros_like(val) \n",
    "        \n",
    "        for key in params.keys() : \n",
    "            self.v[key] = self.momentum * self.v[key] - self.lr * grads[key]\n",
    "            params[key] += self.v[key]\n",
    "            \n",
    "        return params"
   ]
  },
  {
   "cell_type": "code",
   "execution_count": 111,
   "metadata": {
    "collapsed": true
   },
   "outputs": [],
   "source": [
    "network = TwoLayerNet(input_size=x_train.shape[1], hidden_size=50, output_size=10)\n",
    "optimizer = Momentum()\n",
    "batch_size = 32"
   ]
  },
  {
   "cell_type": "code",
   "execution_count": 112,
   "metadata": {},
   "outputs": [],
   "source": [
    "accuracy_list = []\n",
    "for i in range(1000) : \n",
    "    x_batch, t_batch = get_mini_batch(x_train, y_train, i, batch_size)\n",
    "    grads = network.gradient(x_batch, t_batch)\n",
    "    params = network.params\n",
    "    network.params = optimizer.update(params, grads)\n",
    "    accuracy_list.append(network.accuracy(x_test, y_test))"
   ]
  },
  {
   "cell_type": "code",
   "execution_count": 114,
   "metadata": {},
   "outputs": [
    {
     "data": {
      "image/png": "[encoded data removed]",
      "text/plain": [
       "<matplotlib.figure.Figure at 0x107ed1b00>"
      ]
     },
     "metadata": {},
     "output_type": "display_data"
    }
   ],
   "source": [
    "plt.figure()\n",
    "plt.plot(accuracy_list, color=\"black\")\n",
    "plt.show()"
   ]
  },
  {
   "cell_type": "markdown",
   "metadata": {},
   "source": [
    "<br><hr><br>"
   ]
  },
  {
   "cell_type": "markdown",
   "metadata": {},
   "source": [
    "## 5) AdaGrad"
   ]
  },
  {
   "cell_type": "code",
   "execution_count": 120,
   "metadata": {},
   "outputs": [],
   "source": [
    "class AdaGrad : \n",
    "    def __init__(self, lr=0.01) : \n",
    "        self.lr = lr\n",
    "        self.h = None\n",
    "        \n",
    "    def update(self, params, grads) : \n",
    "        if self.h is None : \n",
    "            self.h = {}\n",
    "            for key, val in params.items() : \n",
    "                self.h[key] = np.zeros_like(val) \n",
    "                \n",
    "        for key in params.keys() : \n",
    "            self.h[key] += grads[key] * grads[key]\n",
    "            params[key] -= self.lr * grads[key] / (np.sqrt(self.h[key]) + 1e-7)\n",
    "            \n",
    "        return params"
   ]
  },
  {
   "cell_type": "code",
   "execution_count": 121,
   "metadata": {
    "collapsed": true
   },
   "outputs": [],
   "source": [
    "network = TwoLayerNet(input_size=x_train.shape[1], hidden_size=50, output_size=10)\n",
    "optimizer = AdaGrad()\n",
    "batch_size = 32"
   ]
  },
  {
   "cell_type": "code",
   "execution_count": 122,
   "metadata": {},
   "outputs": [],
   "source": [
    "accuracy_list = []\n",
    "for i in range(1000) : \n",
    "    x_batch, t_batch = get_mini_batch(x_train, y_train, i, batch_size)\n",
    "    grads = network.gradient(x_batch, t_batch)\n",
    "    params = network.params\n",
    "    network.params = optimizer.update(params, grads)\n",
    "    accuracy_list.append(network.accuracy(x_test, y_test))"
   ]
  },
  {
   "cell_type": "code",
   "execution_count": 123,
   "metadata": {},
   "outputs": [
    {
     "data": {
      "image/png": "[encoded data removed]",
      "text/plain": [
       "<matplotlib.figure.Figure at 0x114ac0550>"
      ]
     },
     "metadata": {},
     "output_type": "display_data"
    }
   ],
   "source": [
    "plt.figure()\n",
    "plt.plot(accuracy_list, color=\"black\")\n",
    "plt.show()"
   ]
  },
  {
   "cell_type": "markdown",
   "metadata": {},
   "source": [
    "<br><hr><br>"
   ]
  },
  {
   "cell_type": "markdown",
   "metadata": {},
   "source": [
    "## 6) Adam"
   ]
  },
  {
   "cell_type": "code",
   "execution_count": 128,
   "metadata": {
    "collapsed": true
   },
   "outputs": [],
   "source": [
    "class Adam:\n",
    "    def __init__(self, lr=0.001, beta1=0.9, beta2=0.999):\n",
    "        self.lr = lr\n",
    "        self.beta1 = beta1\n",
    "        self.beta2 = beta2\n",
    "        self.iter = 0\n",
    "        self.m = None\n",
    "        self.v = None\n",
    "        \n",
    "    def update(self, params, grads):\n",
    "        if self.m is None:\n",
    "            self.m, self.v = {}, {}\n",
    "            for key, val in params.items():\n",
    "                self.m[key] = np.zeros_like(val)\n",
    "                self.v[key] = np.zeros_like(val)\n",
    "        \n",
    "        self.iter += 1\n",
    "        lr_t  = self.lr * np.sqrt(1.0 - self.beta2**self.iter) / (1.0 - self.beta1**self.iter)         \n",
    "        \n",
    "        for key in params.keys():\n",
    "            #self.m[key] = self.beta1*self.m[key] + (1-self.beta1)*grads[key]\n",
    "            #self.v[key] = self.beta2*self.v[key] + (1-self.beta2)*(grads[key]**2)\n",
    "            self.m[key] += (1 - self.beta1) * (grads[key] - self.m[key])\n",
    "            self.v[key] += (1 - self.beta2) * (grads[key]**2 - self.v[key])\n",
    "            \n",
    "            params[key] -= lr_t * self.m[key] / (np.sqrt(self.v[key]) + 1e-7)\n",
    "            \n",
    "            #unbias_m += (1 - self.beta1) * (grads[key] - self.m[key]) # correct bias\n",
    "            #unbisa_b += (1 - self.beta2) * (grads[key]*grads[key] - self.v[key]) # correct bias\n",
    "            #params[key] += self.lr * unbias_m / (np.sqrt(unbisa_b) + 1e-7)\n",
    "            \n",
    "        return params"
   ]
  },
  {
   "cell_type": "code",
   "execution_count": 129,
   "metadata": {
    "collapsed": true
   },
   "outputs": [],
   "source": [
    "network = TwoLayerNet(input_size=x_train.shape[1], hidden_size=50, output_size=10)\n",
    "optimizer = Adam()\n",
    "batch_size = 32"
   ]
  },
  {
   "cell_type": "code",
   "execution_count": 130,
   "metadata": {},
   "outputs": [],
   "source": [
    "accuracy_list = []\n",
    "for i in range(1000) : \n",
    "    x_batch, t_batch = get_mini_batch(x_train, y_train, i, batch_size)\n",
    "    grads = network.gradient(x_batch, t_batch)\n",
    "    params = network.params\n",
    "    network.params = optimizer.update(params, grads)\n",
    "    accuracy_list.append(network.accuracy(x_test, y_test))"
   ]
  },
  {
   "cell_type": "code",
   "execution_count": 131,
   "metadata": {},
   "outputs": [
    {
     "data": {
      "image/png": "[encoded data removed]",
      "text/plain": [
       "<matplotlib.figure.Figure at 0x10bd35198>"
      ]
     },
     "metadata": {},
     "output_type": "display_data"
    }
   ],
   "source": [
    "plt.figure()\n",
    "plt.plot(accuracy_list, color=\"black\")\n",
    "plt.show()"
   ]
  },
  {
   "cell_type": "markdown",
   "metadata": {},
   "source": [
    "<br><hr><br>"
   ]
  }
 ],
 "metadata": {
  "kernelspec": {
   "display_name": "Python 3",
   "language": "python",
   "name": "python3"
  },
  "language_info": {
   "codemirror_mode": {
    "name": "ipython",
    "version": 3
   },
   "file_extension": ".py",
   "mimetype": "text/x-python",
   "name": "python",
   "nbconvert_exporter": "python",
   "pygments_lexer": "ipython3",
   "version": "3.5.1"
  }
 },
 "nbformat": 4,
 "nbformat_minor": 2
}
